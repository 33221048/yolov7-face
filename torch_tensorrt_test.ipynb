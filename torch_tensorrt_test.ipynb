{
 "cells": [
  {
   "cell_type": "code",
   "execution_count": 1,
   "id": "1aee4f68",
   "metadata": {},
   "outputs": [],
   "source": [
    "import argparse\n",
    "import sys\n",
    "import time\n",
    "from pathlib import Path\n",
    "\n",
    "import torch\n",
    "import torch.nn as nn\n",
    "from torch.utils.mobile_optimizer import optimize_for_mobile\n",
    "import cv2\n",
    "import numpy as np\n",
    "\n",
    "import models\n",
    "from models.experimental import attempt_load\n",
    "from utils.activations import Hardswish, SiLU\n",
    "from utils.general import colorstr, check_img_size, check_requirements, file_size, set_logging\n",
    "from utils.torch_utils import select_device"
   ]
  },
  {
   "cell_type": "markdown",
   "id": "ab659705",
   "metadata": {},
   "source": [
    "## First step load model"
   ]
  },
  {
   "cell_type": "code",
   "execution_count": 5,
   "id": "50a2d1bd",
   "metadata": {},
   "outputs": [
    {
     "name": "stderr",
     "output_type": "stream",
     "text": [
      "INFO:models.yolo:Fusing layers... \n",
      "INFO:utils.torch_utils:Model Summary: 314 layers, 7826611 parameters, 0 gradients\n"
     ]
    }
   ],
   "source": [
    "device = 'cuda:0'\n",
    "\n",
    "model = attempt_load('./yolov7-tiny-face.pt', map_location=device)\n",
    "for k, m in model.named_modules():\n",
    "    m._non_persistent_buffers_set = set()  # pytorch 1.6.0 compatibility\n",
    "    if isinstance(m, models.common.Conv):  # assign export-friendly activations\n",
    "        if isinstance(m.act, nn.Hardswish):\n",
    "            m.act = Hardswish()\n",
    "        elif isinstance(m.act, nn.SiLU):\n",
    "            m.act = SiLU()\n",
    "    if isinstance(m, models.common.Concat):\n",
    "        m.forward = m.forward_jit\n",
    "        \n",
    "    # elif isinstance(m, models.yolo.Detect):\n",
    "    #     m.forward = m.forward_export  # assign forward (optional)\n",
    "model.model[-1].export = False\n",
    "model = model.eval()"
   ]
  },
  {
   "cell_type": "markdown",
   "id": "8c089b16",
   "metadata": {},
   "source": [
    "## Setting torch_tensorrt"
   ]
  },
  {
   "cell_type": "code",
   "execution_count": 11,
   "id": "150b4ceb",
   "metadata": {},
   "outputs": [
    {
     "name": "stdout",
     "output_type": "stream",
     "text": [
      "[4 7 2 9 1 6 8 0 5 3]\n"
     ]
    },
    {
     "data": {
      "text/plain": [
       "array([3, 6, 1, 5, 8, 0, 9, 2, 4, 7])"
      ]
     },
     "execution_count": 11,
     "metadata": {},
     "output_type": "execute_result"
    }
   ],
   "source": [
    "arr = np.arange(10)\n",
    "np.random.shuffle(arr)\n",
    "print(arr)\n",
    "arr.argsort()[::-1]"
   ]
  },
  {
   "cell_type": "code",
   "execution_count": null,
   "id": "8f125216",
   "metadata": {},
   "outputs": [],
   "source": []
  }
 ],
 "metadata": {
  "kernelspec": {
   "display_name": "Python 3 (ipykernel)",
   "language": "python",
   "name": "python3"
  },
  "language_info": {
   "codemirror_mode": {
    "name": "ipython",
    "version": 3
   },
   "file_extension": ".py",
   "mimetype": "text/x-python",
   "name": "python",
   "nbconvert_exporter": "python",
   "pygments_lexer": "ipython3",
   "version": "3.8.13"
  }
 },
 "nbformat": 4,
 "nbformat_minor": 5
}
