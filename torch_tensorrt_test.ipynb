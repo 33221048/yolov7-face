{
 "cells": [
  {
   "cell_type": "code",
   "execution_count": null,
   "id": "1aee4f68",
   "metadata": {},
   "outputs": [],
   "source": [
    "import argparse\n",
    "import sys\n",
    "import time\n",
    "from pathlib import Path\n",
    "\n",
    "import torch\n",
    "import torch.nn as nn\n",
    "from torch.utils.mobile_optimizer import optimize_for_mobile\n",
    "import cv2\n",
    "import numpy as np\n",
    "\n",
    "import models\n",
    "from models.experimental import attempt_load\n",
    "from utils.activations import Hardswish, SiLU\n",
    "from utils.general import colorstr, check_img_size, check_requirements, file_size, set_logging\n",
    "from utils.torch_utils import select_device"
   ]
  },
  {
   "cell_type": "markdown",
   "id": "ab659705",
   "metadata": {},
   "source": [
    "## First step load model"
   ]
  },
  {
   "cell_type": "code",
   "execution_count": null,
   "id": "50a2d1bd",
   "metadata": {},
   "outputs": [],
   "source": [
    "device = 'cuda:0'\n",
    "\n",
    "model = attempt_load('./yolov7-tiny-face.pt', map_location=device)\n",
    "for k, m in model.named_modules():\n",
    "    m._non_persistent_buffers_set = set()  # pytorch 1.6.0 compatibility\n",
    "    if isinstance(m, models.common.Conv):  # assign export-friendly activations\n",
    "        if isinstance(m.act, nn.Hardswish):\n",
    "            m.act = Hardswish()\n",
    "        elif isinstance(m.act, nn.SiLU):\n",
    "            m.act = SiLU()\n",
    "    if isinstance(m, models.common.Concat):\n",
    "        m.forward = m.forward_jit\n",
    "        \n",
    "    # elif isinstance(m, models.yolo.Detect):\n",
    "    #     m.forward = m.forward_export  # assign forward (optional)\n",
    "model.model[-1].export = False\n",
    "model = model.eval()"
   ]
  },
  {
   "cell_type": "markdown",
   "id": "8c089b16",
   "metadata": {},
   "source": [
    "## Setting torch_tensorrt"
   ]
  },
  {
   "cell_type": "code",
   "execution_count": null,
   "id": "150b4ceb",
   "metadata": {},
   "outputs": [],
   "source": [
    "arr = np.arange(10)\n",
    "np.random.shuffle(arr)\n",
    "print(arr)\n",
    "arr.argsort()[::-1]"
   ]
  },
  {
   "cell_type": "code",
   "execution_count": null,
   "id": "8f125216",
   "metadata": {},
   "outputs": [],
   "source": []
  }
 ],
 "metadata": {
  "kernelspec": {
   "display_name": "base",
   "language": "python",
   "name": "python3"
  },
  "language_info": {
   "codemirror_mode": {
    "name": "ipython",
    "version": 3
   },
   "file_extension": ".py",
   "mimetype": "text/x-python",
   "name": "python",
   "nbconvert_exporter": "python",
   "pygments_lexer": "ipython3",
   "version": "3.8.13 | packaged by conda-forge | (default, Mar 25 2022, 06:04:10) \n[GCC 10.3.0]"
  },
  "vscode": {
   "interpreter": {
    "hash": "d4d1e4263499bec80672ea0156c357c1ee493ec2b1c70f0acce89fc37c4a6abe"
   }
  }
 },
 "nbformat": 4,
 "nbformat_minor": 5
}
