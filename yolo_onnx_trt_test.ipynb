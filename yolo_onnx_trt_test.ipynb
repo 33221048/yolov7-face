{
 "cells": [
  {
   "cell_type": "markdown",
   "id": "d923c33a",
   "metadata": {},
   "source": [
    "## onnx library import"
   ]
  },
  {
   "cell_type": "code",
   "execution_count": 1,
   "id": "748cf6a1",
   "metadata": {},
   "outputs": [],
   "source": [
    "import os\n",
    "import sys\n",
    "import numpy as np\n",
    "import cv2\n",
    "import argparse\n",
    "import onnxruntime\n",
    "from tqdm import tqdm"
   ]
  },
  {
   "cell_type": "code",
   "execution_count": 2,
   "id": "e8a715b1",
   "metadata": {},
   "outputs": [],
   "source": [
    "sys.path.append('./trt_inference/')\n",
    "sys.path.append('./onnx_inference/')"
   ]
  },
  {
   "cell_type": "markdown",
   "id": "76d60ccd",
   "metadata": {},
   "source": [
    "### tensorrt library import"
   ]
  },
  {
   "cell_type": "code",
   "execution_count": 3,
   "id": "639f56ee",
   "metadata": {},
   "outputs": [],
   "source": [
    "from trt_inference.yolo_face_trt_inference import Predictor\n",
    "from onnx_inference.yolo_pose_onnx_inference import model_inference_image_list_wo_nms, model_inference_image_list"
   ]
  },
  {
   "cell_type": "markdown",
   "id": "5be9d857",
   "metadata": {},
   "source": [
    "### export onnx and tensorrt (without nms)"
   ]
  },
  {
   "cell_type": "code",
   "execution_count": 4,
   "id": "bc04a09e",
   "metadata": {},
   "outputs": [],
   "source": [
    "# build onnx file (32bit)\n",
    "#!python models/export.py --weights ./yolov7-tiny-face.pt --grid --simplify\n",
    "# build onnx file to trt file (32bit)\n",
    "#!python models/export_tensorrt.py -o ./yolov7-tiny-face_wo_nms.onnx -e ./yolov7-tiny-face_wo_nms.trt -p fp32"
   ]
  },
  {
   "cell_type": "code",
   "execution_count": 5,
   "id": "c40adf7e",
   "metadata": {},
   "outputs": [
    {
     "name": "stderr",
     "output_type": "stream",
     "text": [
      "0/1: 100%|████████████████████████████████████████████████████████████████████████████████| 1/1 [00:00<00:00,  3.77it/s]"
     ]
    },
    {
     "name": "stdout",
     "output_type": "stream",
     "text": [
      "output path :  ./onnx_w_nms/22_Picnic_Picnic_22_10.jpg\n"
     ]
    },
    {
     "name": "stderr",
     "output_type": "stream",
     "text": [
      "\n"
     ]
    }
   ],
   "source": [
    "onnx_path = './yolov7-tiny-face_include_nms.onnx'\n",
    "trt_path = './yolov7-tiny-face_wo_nms.trt'\n",
    "img_path = './data/images/22_Picnic_Picnic_22_10.jpg'\n",
    "\n",
    "model_inference_image_list(onnx_path, img_path, mean=0, scale=0.003, dst_path='./onnx_w_nms')"
   ]
  },
  {
   "cell_type": "code",
   "execution_count": 6,
   "id": "c128093a",
   "metadata": {},
   "outputs": [],
   "source": [
    "onnx_path = './yolov7-tiny-face_wo_nms.onnx'\n",
    "trt_path = './yolov7-tiny-face_wo_nms.trt'\n",
    "img_path = './data/images/22_Picnic_Picnic_22_10.jpg'\n",
    "\n",
    "#model_inference_image_list_wo_nms(model_path=onnx_path, img_path = img_path, mean=0, scale=0.0039, dst_path='./onnx_output')"
   ]
  },
  {
   "cell_type": "code",
   "execution_count": null,
   "id": "be64e223",
   "metadata": {},
   "outputs": [],
   "source": []
  }
 ],
 "metadata": {
  "kernelspec": {
   "display_name": "Python 3 (ipykernel)",
   "language": "python",
   "name": "python3"
  },
  "language_info": {
   "codemirror_mode": {
    "name": "ipython",
    "version": 3
   },
   "file_extension": ".py",
   "mimetype": "text/x-python",
   "name": "python",
   "nbconvert_exporter": "python",
   "pygments_lexer": "ipython3",
   "version": "3.8.13"
  }
 },
 "nbformat": 4,
 "nbformat_minor": 5
}
