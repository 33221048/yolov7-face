{
 "cells": [
  {
   "cell_type": "markdown",
   "id": "d923c33a",
   "metadata": {},
   "source": [
    "## onnx library import"
   ]
  },
  {
   "cell_type": "code",
   "execution_count": 6,
   "id": "748cf6a1",
   "metadata": {},
   "outputs": [],
   "source": [
    "import os\n",
    "import sys\n",
    "import numpy as np\n",
    "import cv2\n",
    "import argparse\n",
    "import onnxruntime\n",
    "from tqdm import tqdm"
   ]
  },
  {
   "cell_type": "code",
   "execution_count": 7,
   "id": "e8a715b1",
   "metadata": {},
   "outputs": [],
   "source": [
    "sys.path.append('./trt_inference/')\n",
    "sys.path.append('./onnx_inference/')"
   ]
  },
  {
   "cell_type": "markdown",
   "id": "76d60ccd",
   "metadata": {},
   "source": [
    "### tensorrt library import"
   ]
  },
  {
   "cell_type": "code",
   "execution_count": 8,
   "id": "639f56ee",
   "metadata": {},
   "outputs": [],
   "source": [
    "from trt_inference.yolo_face_trt_inference import Predictor\n",
    "from onnx_inference.yolo_pose_onnx_inference import model_inference_image_list_wo_nms, model_inference_image_list"
   ]
  },
  {
   "cell_type": "markdown",
   "id": "5be9d857",
   "metadata": {},
   "source": [
    "### export onnx and tensorrt (without nms)"
   ]
  },
  {
   "cell_type": "code",
   "execution_count": 9,
   "id": "bc04a09e",
   "metadata": {},
   "outputs": [],
   "source": [
    "# build onnx file (32bit)\n",
    "#!python models/export.py --weights ./yolov7-tiny-face.pt --grid --simplify\n",
    "# build onnx file to trt file (32bit)\n",
    "#!python models/export_tensorrt.py -o ./yolov7-tiny-face_wo_nms.onnx -e ./yolov7-tiny-face_wo_nms.trt -p fp32"
   ]
  },
  {
   "cell_type": "code",
   "execution_count": 10,
   "id": "c40adf7e",
   "metadata": {},
   "outputs": [
    {
     "name": "stderr",
     "output_type": "stream",
     "text": [
      "0/1: 100%|██████████| 1/1 [00:00<00:00,  2.68it/s]"
     ]
    },
    {
     "name": "stdout",
     "output_type": "stream",
     "text": [
      "output path :  ./onnx_w_nms/22_Picnic_Picnic_22_10.jpg\n"
     ]
    },
    {
     "name": "stderr",
     "output_type": "stream",
     "text": [
      "\n"
     ]
    }
   ],
   "source": [
    "onnx_path = './yolov7-tiny-face_include_nms.onnx'\n",
    "trt_path = './yolov7-tiny-face_wo_nms_fp16.trt'\n",
    "img_path = './data/images/22_Picnic_Picnic_22_10.jpg'\n",
    "\n",
    "model_inference_image_list(onnx_path, img_path, mean=0, scale=0.003, dst_path='./onnx_w_nms')"
   ]
  },
  {
   "cell_type": "code",
   "execution_count": 11,
   "id": "c128093a",
   "metadata": {},
   "outputs": [],
   "source": [
    "onnx_path = './yolov7-tiny-face_wo_nms.onnx'\n",
    "trt_path = './yolov7-tiny-face_wo_nms.trt'\n",
    "img_path = './data/images/22_Picnic_Picnic_22_10.jpg'\n",
    "\n",
    "#model_inference_image_list_wo_nms(model_path=onnx_path, img_path = img_path, mean=0, scale=0.0039, dst_path='./onnx_output')"
   ]
  },
  {
   "cell_type": "code",
   "execution_count": 12,
   "id": "be64e223",
   "metadata": {},
   "outputs": [],
   "source": [
    "import numpy as np\n",
    "import tensorrt as trt\n",
    "import pycuda.driver as cuda\n",
    "import pycuda.autoinit"
   ]
  },
  {
   "cell_type": "code",
   "execution_count": 13,
   "id": "ded23e47",
   "metadata": {},
   "outputs": [
    {
     "name": "stdout",
     "output_type": "stream",
     "text": [
      "[01/09/2023-00:52:52] [TRT] [I] [MemUsageChange] Init CUDA: CPU +2, GPU +0, now: CPU 120, GPU 36919 (MiB)\n",
      "[01/09/2023-00:53:03] [TRT] [I] [MemUsageChange] Init builder kernel library: CPU +529, GPU +152, now: CPU 701, GPU 37071 (MiB)\n"
     ]
    }
   ],
   "source": [
    "trt_logger = trt.Logger(trt.Logger.INFO)\n",
    "trt_builder = trt.Builder(trt_logger)\n",
    "trt_config = trt_builder.create_builder_config()\n",
    "trt_config.set_memory_pool_limit(trt.MemoryPoolType.WORKSPACE, 8 * (2 ** 30)) # 8 is workspace"
   ]
  },
  {
   "cell_type": "code",
   "execution_count": 14,
   "id": "7fbb2ca8",
   "metadata": {},
   "outputs": [
    {
     "name": "stdout",
     "output_type": "stream",
     "text": [
      "1\n",
      "[01/09/2023-00:53:03] [TRT] [W] parsers/onnx/onnx2trt_utils.cpp:375: Your ONNX model has been generated with INT64 weights, while TensorRT does not natively support INT64. Attempting to cast down to INT32.\n",
      "[01/09/2023-00:53:03] [TRT] [W] parsers/onnx/onnx2trt_utils.cpp:403: One or more weights outside the range of INT32 was clamped\n",
      "inputs :  (1, 3, 640, 640)\n",
      "outputs :  (1, 25200, 21)\n",
      "num layers :  408\n",
      "boxes's slice start : (0, 0, 0)\n",
      "boxes's slice output shapes : (1, 25200, 4)\n",
      "boxes :  (1, 25200, 4)\n",
      "obj's score slice start : (0, 0, 4)\n",
      "obj's score slice output shapes : (1, 25200, 1)\n",
      "obj score :  (1, 25200, 1)\n",
      "class score's score slice start : (0, 0, 5)\n",
      "class score's score slice output shapes : (1, 25200, 1)\n",
      "score : (1, 25200, 1)\n",
      "key point's score slice start :  (0, 0, 6)\n",
      "key point's score slice output shpae :  (1, 25200, 15)\n",
      "keypoint : (1, 25200, 15)\n"
     ]
    }
   ],
   "source": [
    "network_flag = (1 << int(trt.NetworkDefinitionCreationFlag.EXPLICIT_BATCH))\n",
    "print(network_flag)\n",
    "network = trt_builder.create_network(network_flag)\n",
    "parser = trt.OnnxParser(network, trt_logger)\n",
    "\n",
    "with open(onnx_path, \"rb\") as f:\n",
    "    if not parser.parse(f.read()):\n",
    "        print(\"Failed to load onnx file\")\n",
    "        for error in range(parser.num_errors):\n",
    "            print(parser.get_error(error))\n",
    "        sys.exit(1)\n",
    "\n",
    "inputs = [network.get_input(i) for i in range(network.num_inputs)]\n",
    "outputs = [network.get_output(i) for i in range(network.num_outputs)]\n",
    "print(\"inputs : \" , inputs[0].shape)\n",
    "print(\"outputs : \", outputs[0].shape)\n",
    "print(\"num layers : \", network.num_layers)\n",
    "\n",
    "nkpt = 5 # face landmark\n",
    "strides = trt.Dims([1,1,1])\n",
    "starts = trt.Dims([0,0,0])\n",
    "bs, num_grid, temp = outputs[0].shape\n",
    "shapes = trt.Dims([bs, num_grid, 4])\n",
    "num_classes = temp - 5 - nkpt*3 \n",
    "boxes = network.add_slice(outputs[0], starts, shapes, strides)\n",
    "print(\"boxes's slice start :\", starts)\n",
    "print(\"boxes's slice output shapes :\", shapes)\n",
    "\n",
    "print(\"boxes : \", boxes.shape)\n",
    "\n",
    "starts[2] = 4\n",
    "shapes[2] = 1\n",
    "print(\"obj's score slice start :\", starts)\n",
    "print(\"obj's score slice output shapes :\", shapes)\n",
    "obj_score = network.add_slice(outputs[0], starts, shapes, strides)\n",
    "print(\"obj score : \", obj_score.shape)\n",
    "\n",
    "starts[2] = 5\n",
    "shapes[2] = num_classes\n",
    "print(\"class score's score slice start :\", starts)\n",
    "print(\"class score's score slice output shapes :\", shapes)\n",
    "\n",
    "cls_score = network.add_slice(outputs[0], starts, shapes, strides)     \n",
    "print(\"score :\", cls_score.shape)\n",
    "\n",
    "starts[2] = 5 + num_classes\n",
    "shapes[2] = temp - 5 - num_classes\n",
    "print(\"key point's score slice start : \", starts)\n",
    "print(\"key point's score slice output shpae : \", shapes)\n",
    "\n",
    "keypoints = network.add_slice(outputs[0], starts, shapes, strides)\n",
    "print(\"keypoint :\", keypoints.shape)\n",
    "# compute obj_score * cls_score\n",
    "updated_score = network.add_elementwise(obj_score.get_output(0), cls_score.get_output(0), trt.ElementWiseOperation.PROD)"
   ]
  },
  {
   "cell_type": "code",
   "execution_count": 15,
   "id": "528226bb",
   "metadata": {},
   "outputs": [
    {
     "name": "stdout",
     "output_type": "stream",
     "text": [
      "<tensorrt.tensorrt.IPluginRegistry object at 0x7fcc90072830>\n"
     ]
    }
   ],
   "source": [
    "registry = trt.get_plugin_registry()\n",
    "print(registry)\n",
    "creator = registry.get_plugin_creator(\"EfficientNMS_TRT\", \"1\")"
   ]
  },
  {
   "cell_type": "code",
   "execution_count": 16,
   "id": "bee4239e",
   "metadata": {},
   "outputs": [
    {
     "data": {
      "text/plain": [
       "<tensorrt.tensorrt.IPluginCreator at 0x7fcc90072330>"
      ]
     },
     "execution_count": 16,
     "metadata": {},
     "output_type": "execute_result"
    }
   ],
   "source": [
    "creator"
   ]
  },
  {
   "cell_type": "code",
   "execution_count": 18,
   "id": "715a823b",
   "metadata": {},
   "outputs": [],
   "source": [
    "max_det = 10\n",
    "conf_thres = 0.4\n",
    "iou_thres = 0.5\n",
    "registry = trt.get_plugin_registry()\n",
    "assert(registry)\n",
    "creator = registry.get_plugin_creator(\"EfficientNMS_TRT\", \"1\")\n",
    "assert(creator)\n",
    "fc = []\n",
    "fc.append(trt.PluginField(\"background_class\", np.array([-1], dtype=np.int32), trt.PluginFieldType.INT32))\n",
    "fc.append(trt.PluginField(\"max_output_boxes\", np.array([max_det], dtype=np.int32), trt.PluginFieldType.INT32))\n",
    "fc.append(trt.PluginField(\"score_threshold\", np.array([conf_thres], dtype=np.float32), trt.PluginFieldType.FLOAT32))\n",
    "fc.append(trt.PluginField(\"iou_threshold\", np.array([iou_thres], dtype=np.float32), trt.PluginFieldType.FLOAT32))\n",
    "fc.append(trt.PluginField(\"box_coding\", np.array([1], dtype=np.int32), trt.PluginFieldType.INT32))\n",
    "\n",
    "fc = trt.PluginFieldCollection(fc) \n",
    "nms_layer = creator.create_plugin(\"nms_layer\", fc)\n"
   ]
  },
  {
   "cell_type": "code",
   "execution_count": 75,
   "id": "64216bbc",
   "metadata": {},
   "outputs": [],
   "source": [
    "max_det = 10\n",
    "conf_thres = 0.4\n",
    "iou_thres = 0.5\n",
    "registry = trt.get_plugin_registry()\n",
    "assert(registry)\n",
    "creator = registry.get_plugin_creator(\"EfficientNMS_ONNX_TRT\", \"1\")\n",
    "assert(creator)\n",
    "fc = []\n",
    "fc.append(trt.PluginField(\"background_class\", np.array([-1], dtype=np.int32), trt.PluginFieldType.INT32))\n",
    "fc.append(trt.PluginField(\"max_output_boxes\", np.array([max_det], dtype=np.int32), trt.PluginFieldType.INT32))\n",
    "fc.append(trt.PluginField(\"score_threshold\", np.array([conf_thres], dtype=np.float32), trt.PluginFieldType.FLOAT32))\n",
    "fc.append(trt.PluginField(\"iou_threshold\", np.array([iou_thres], dtype=np.float32), trt.PluginFieldType.FLOAT32))\n",
    "fc.append(trt.PluginField(\"box_coding\", np.array([1], dtype=np.int32), trt.PluginFieldType.INT32))\n",
    "\n",
    "fc = trt.PluginFieldCollection(fc) \n",
    "nms_layer = creator.create_plugin(\"nms_layer\", fc)\n"
   ]
  },
  {
   "cell_type": "code",
   "execution_count": null,
   "id": "b6823cee",
   "metadata": {},
   "outputs": [],
   "source": [
    "network.add_gather_v2(outputs[0], nms_layer.get_output(0), axis=1)"
   ]
  },
  {
   "cell_type": "code",
   "execution_count": 54,
   "id": "db82caf0",
   "metadata": {},
   "outputs": [
    {
     "data": {
      "text/plain": [
       "(0)"
      ]
     },
     "execution_count": 54,
     "metadata": {},
     "output_type": "execute_result"
    }
   ],
   "source": [
    "nms_layer.get_output_shape(0, input_shapes=[boxes.shape, obj_score.shape])"
   ]
  },
  {
   "cell_type": "code",
   "execution_count": 62,
   "id": "b0bf4122",
   "metadata": {},
   "outputs": [
    {
     "data": {
      "text/plain": [
       "1"
      ]
     },
     "execution_count": 62,
     "metadata": {},
     "output_type": "execute_result"
    }
   ],
   "source": [
    "nms_layer.num_outputs"
   ]
  },
  {
   "cell_type": "code",
   "execution_count": 68,
   "id": "079f50e4",
   "metadata": {},
   "outputs": [],
   "source": [
    "itensor = boxes.get_output(0)"
   ]
  },
  {
   "cell_type": "code",
   "execution_count": 72,
   "id": "acc9b698",
   "metadata": {},
   "outputs": [
    {
     "ename": "TypeError",
     "evalue": "'tensorrt.tensorrt.ITensor' object is not subscriptable",
     "output_type": "error",
     "traceback": [
      "\u001b[0;31m---------------------------------------------------------------------------\u001b[0m",
      "\u001b[0;31mTypeError\u001b[0m                                 Traceback (most recent call last)",
      "Cell \u001b[0;32mIn [72], line 1\u001b[0m\n\u001b[0;32m----> 1\u001b[0m itensor[\u001b[39m0\u001b[39;49m]\n",
      "\u001b[0;31mTypeError\u001b[0m: 'tensorrt.tensorrt.ITensor' object is not subscriptable"
     ]
    }
   ],
   "source": [
    "itensor[0]"
   ]
  },
  {
   "cell_type": "code",
   "execution_count": 74,
   "id": "bb127fb5",
   "metadata": {},
   "outputs": [
    {
     "ename": "TypeError",
     "evalue": "tensorrt.tensorrt.ITensor: No constructor defined!",
     "output_type": "error",
     "traceback": [
      "\u001b[0;31m---------------------------------------------------------------------------\u001b[0m",
      "\u001b[0;31mTypeError\u001b[0m                                 Traceback (most recent call last)",
      "Cell \u001b[0;32mIn [74], line 1\u001b[0m\n\u001b[0;32m----> 1\u001b[0m itensor \u001b[39m=\u001b[39mtrt\u001b[39m.\u001b[39;49mITensor()\n",
      "\u001b[0;31mTypeError\u001b[0m: tensorrt.tensorrt.ITensor: No constructor defined!"
     ]
    }
   ],
   "source": [
    "itensor =trt.ITensor()"
   ]
  },
  {
   "cell_type": "code",
   "execution_count": null,
   "id": "bcde0c9a",
   "metadata": {},
   "outputs": [],
   "source": []
  }
 ],
 "metadata": {
  "kernelspec": {
   "display_name": "base",
   "language": "python",
   "name": "python3"
  },
  "language_info": {
   "codemirror_mode": {
    "name": "ipython",
    "version": 3
   },
   "file_extension": ".py",
   "mimetype": "text/x-python",
   "name": "python",
   "nbconvert_exporter": "python",
   "pygments_lexer": "ipython3",
   "version": "3.8.13"
  },
  "vscode": {
   "interpreter": {
    "hash": "d4d1e4263499bec80672ea0156c357c1ee493ec2b1c70f0acce89fc37c4a6abe"
   }
  }
 },
 "nbformat": 4,
 "nbformat_minor": 5
}
